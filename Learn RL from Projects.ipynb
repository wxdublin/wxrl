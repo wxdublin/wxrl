{
 "cells": [
  {
   "cell_type": "markdown",
   "metadata": {},
   "source": [
    "# Learn Reinforcement Learning from Projects\n",
    "\n",
    "## The Pac-Man Projects\n",
    "http://ai.berkeley.edu/project_overview.html\n",
    "\n",
    "### Search\n",
    "In this project, your Pacman agent will find paths through his maze world, both to reach a particular location and to collect food efficiently. You will build general search algorithms and apply them to Pacman scenarios.\n",
    "```\n",
    "python2.7 pacman.py\n",
    "```\n",
    "Pacman lives in a shiny blue world of twisting corridors and tasty round treats. Navigating this world efficiently will be Pacman's first step in mastering his domain.\n",
    "\n",
    "The simplest agent in searchAgents.py is called the GoWestAgent, which always goes West (a trivial reflex agent). This agent can occasionally win:\n",
    "```\n",
    "python2.7 pacman.py --layout testMaze --pacman GoWestAgent\n",
    "```\n",
    "But, things get ugly for this agent when turning is required:\n",
    "```\n",
    "python2.7 pacman.py --layout tinyMaze --pacman GoWestAgent\n",
    "```\n",
    "If Pacman gets stuck, you can exit the game by typing CTRL-c into your terminal.\n",
    "\n",
    "Soon, your agent will solve not only tinyMaze, but any maze you want.\n",
    "\n",
    "Note that pacman.py supports a number of options that can each be expressed in a long way (e.g., --layout) or a short way (e.g., -l). You can see the list of all options and their default values via:\n",
    "```\n",
    "python2.7 pacman.py -h\n",
    "```\n",
    "Also, all of the commands that appear in this project also appear in commands.txt, for easy copying and pasting. In UNIX/Mac OS X, you can even run all these commands in order with bash commands.txt.\n",
    "\n",
    "Note: if you get error messages regarding Tkinter, see this page.\n",
    "\n",
    "#### Q1: Depth First Search\n",
    "In searchAgents.py, you'll find a fully implemented SearchAgent, which plans out a path through Pacman's world and then executes that path step-by-step. \n",
    "\n",
    "First, test that the SearchAgent is working correctly by running:\n",
    "```\n",
    "python2.7 pacman.py -l tinyMaze -p SearchAgent -a fn=tinyMazeSearch\n",
    "```\n",
    "The command above tells the SearchAgent to use tinyMazeSearch as its search algorithm, which is implemented in search.py. Pacman should navigate the maze successfully."
   ]
  },
  {
   "cell_type": "code",
   "execution_count": null,
   "metadata": {
    "collapsed": true
   },
   "outputs": [],
   "source": []
  },
  {
   "cell_type": "code",
   "execution_count": null,
   "metadata": {
    "collapsed": true
   },
   "outputs": [],
   "source": []
  }
 ],
 "metadata": {
  "kernelspec": {
   "display_name": "Python 3",
   "language": "python",
   "name": "python3"
  },
  "language_info": {
   "codemirror_mode": {
    "name": "ipython",
    "version": 3
   },
   "file_extension": ".py",
   "mimetype": "text/x-python",
   "name": "python",
   "nbconvert_exporter": "python",
   "pygments_lexer": "ipython3",
   "version": "3.6.1"
  }
 },
 "nbformat": 4,
 "nbformat_minor": 2
}
